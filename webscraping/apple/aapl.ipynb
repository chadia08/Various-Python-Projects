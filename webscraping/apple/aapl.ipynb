{
 "cells": [
  {
   "cell_type": "code",
   "execution_count": 58,
   "metadata": {},
   "outputs": [],
   "source": [
    "from selenium import webdriver\n",
    "from selenium.webdriver.common.by import By\n",
    "from selenium.webdriver.support.ui import WebDriverWait\n",
    "from selenium.webdriver.support import expected_conditions as EC\n",
    "import pandas as pd\n"
   ]
  },
  {
   "cell_type": "code",
   "execution_count": 70,
   "metadata": {},
   "outputs": [
    {
     "name": "stdout",
     "output_type": "stream",
     "text": [
      "ooooooooooook\n",
      "table\n",
      "first row\n",
      "Nouvelles données introuvables\n"
     ]
    }
   ],
   "source": [
    "# Initialisation du DataFrame\n",
    "columns = {'Chiffre affaires': []}\n",
    "\n",
    "def get_data_after_click():\n",
    "    url = 'https://www.google.com/finance/quote/AAPL:NASDAQ?hl=fr'\n",
    "    chromedriver_path = \"C:/chromedriver-win64/chromedriver.exe\"  # Remplacez ceci par votre chemin\n",
    "    \n",
    "    options = webdriver.ChromeOptions()\n",
    "    options.add_argument(\"--headless\")  # Exécution en mode headless (en arrière-plan)\n",
    "    \n",
    "    driver = webdriver.Chrome(executable_path=chromedriver_path, options=options)\n",
    "    driver.get(url)\n",
    "    \n",
    "    # Cliquer sur l'élément avec la classe 'oX8Xbb Tj1T2'\n",
    "    try:\n",
    "        specific_element = WebDriverWait(driver, 10).until(\n",
    "        EC.element_to_be_clickable((By.CSS_SELECTOR, \"div.oX8Xbb.Tj1T2\"))\n",
    "    )\n",
    "        specific_element.click()\n",
    "        print('ooooooooooook')\n",
    "    except:\n",
    "        print(\"Impossible de cliquer sur l'élément avec la classe 'oX8Xbb Tj1T2'\")\n",
    "        driver.quit()\n",
    "        return None\n",
    "    \n",
    "    # Attendre que l'élément 'Annuelles' soit cliquable\n",
    "    try:\n",
    "        element_annuelles = WebDriverWait(driver, 10).until(\n",
    "            EC.presence_of_element_located((By.XPATH, \"//span[text()='Annuelles']\"))\n",
    "        )\n",
    "    \n",
    "        # Faites défiler jusqu'à l'élément 'Annuelles' pour qu'il soit visible\n",
    "        driver.execute_script(\"arguments[0].scrollIntoView(true);\", element_annuelles)\n",
    "    \n",
    "        # Cliquez en utilisant JavaScript\n",
    "        driver.execute_script(\"arguments[0].click();\", element_annuelles)\n",
    "       \n",
    "    except:\n",
    "        print(\"Impossible de cliquer sur l'élément 'Annuelles'\")\n",
    "        driver.quit()\n",
    "        return None\n",
    "    \n",
    "    # Récupérer les données après le clic sur 'Annuelles'\n",
    "    try:\n",
    "         # Trouver la table contenant les données\n",
    "        table = driver.find_element_by_xpath(\"//table[@class='slpEwd']\")\n",
    "        if table: print(\"table\")\n",
    "        # Sélectionner la première ligne\n",
    "        first_row = table.find_element_by_xpath(\".//tr[1]\")\n",
    "        if first_row: print(\"first row\")\n",
    "        # Récupérer le contenu de la première cellule\n",
    "        new_data_element = first_row.find_element(\"//td[@class='QXDnM']\")\n",
    "        if new_data_element: print('new_data_elemen')\n",
    "        new_data = new_data_element.text\n",
    "    except:\n",
    "        print(\"Nouvelles données introuvables\")\n",
    "        driver.quit()\n",
    "        return None\n",
    "    \n",
    "    driver.quit()\n",
    "    return new_data\n",
    "\n",
    "# Appel de la fonction pour récupérer les données après avoir cliqué sur 'Annuelles'\n",
    "data = get_data_after_click()\n",
    "\n",
    "# Ajouter les nouvelles données au DataFrame\n",
    "if data:\n",
    "    columns['Chiffre affaires'].append(data)\n",
    "    df = pd.DataFrame(columns)\n",
    "    print(df)\n"
   ]
  },
  {
   "cell_type": "code",
   "execution_count": 71,
   "metadata": {},
   "outputs": [
    {
     "name": "stdout",
     "output_type": "stream",
     "text": [
      "ooooooooooook\n",
      "table\n",
      "first row\n",
      "Nouvelles données introuvables\n"
     ]
    }
   ],
   "source": [
    "# Appel de la fonction pour récupérer les données après avoir cliqué sur 'Annuelles'\n",
    "data_after_click = get_data_after_click()\n"
   ]
  },
  {
   "cell_type": "code",
   "execution_count": null,
   "metadata": {},
   "outputs": [],
   "source": [
    "# Si les données sont récupérées avec succès, les ajouter au DataFrame et enregistrer dans un fichier CSV\n",
    "if data_after_click:\n",
    "    columns['Chiffre affaires'].append(data_after_click)\n",
    "    pd.DataFrame(columns).to_csv('apple.csv', index=False)"
   ]
  },
  {
   "cell_type": "code",
   "execution_count": null,
   "metadata": {},
   "outputs": [],
   "source": [
    "#stock_price = get_stock_price('AAPL')\n",
    "#print(\"Prix de l'action AAPL:\", stock_price)"
   ]
  }
 ],
 "metadata": {
  "kernelspec": {
   "display_name": "base",
   "language": "python",
   "name": "python3"
  },
  "language_info": {
   "codemirror_mode": {
    "name": "ipython",
    "version": 3
   },
   "file_extension": ".py",
   "mimetype": "text/x-python",
   "name": "python",
   "nbconvert_exporter": "python",
   "pygments_lexer": "ipython3",
   "version": "3.12.0"
  }
 },
 "nbformat": 4,
 "nbformat_minor": 2
}
